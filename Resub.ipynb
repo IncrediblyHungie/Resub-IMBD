{
 "cells": [
  {
   "cell_type": "code",
   "execution_count": 1,
   "id": "420ae54e",
   "metadata": {},
   "outputs": [],
   "source": [
    "import pandas as pd\n",
    "\n",
    "# The sep='\\t' indicates the files are tab separated\n",
    "title_basics = pd.read_csv('title.basics.tsv.gz', sep='\\t', compression='gzip', low_memory=False)\n",
    "title_ratings = pd.read_csv('title.ratings.tsv.gz', sep='\\t', compression='gzip')\n",
    "title_akas = pd.read_csv('title.akas.tsv.gz', sep='\\t', compression='gzip', low_memory=False)"
   ]
  },
  {
   "cell_type": "code",
   "execution_count": 6,
   "id": "27abb60b",
   "metadata": {},
   "outputs": [
    {
     "name": "stdout",
     "output_type": "stream",
     "text": [
      "<class 'pandas.core.frame.DataFrame'>\n",
      "Int64Index: 186186 entries, 11636 to 9854294\n",
      "Data columns (total 9 columns):\n",
      " #   Column          Non-Null Count   Dtype \n",
      "---  ------          --------------   ----- \n",
      " 0   tconst          186186 non-null  object\n",
      " 1   titleType       186186 non-null  object\n",
      " 2   primaryTitle    186186 non-null  object\n",
      " 3   originalTitle   186186 non-null  object\n",
      " 4   isAdult         186186 non-null  object\n",
      " 5   startYear       186186 non-null  object\n",
      " 6   endYear         186186 non-null  object\n",
      " 7   runtimeMinutes  186186 non-null  object\n",
      " 8   genres          186186 non-null  object\n",
      "dtypes: object(9)\n",
      "memory usage: 14.2+ MB\n",
      "None\n"
     ]
    }
   ],
   "source": [
    "# Filter 'title_basics' for movies\n",
    "title_basics_movies = title_basics[title_basics['titleType'] == 'movie']\n",
    "print(title_basics_movies.info())"
   ]
  },
  {
   "cell_type": "code",
   "execution_count": 7,
   "id": "c0bb183f",
   "metadata": {},
   "outputs": [
    {
     "name": "stdout",
     "output_type": "stream",
     "text": [
      "<class 'pandas.core.frame.DataFrame'>\n",
      "Int64Index: 186186 entries, 11636 to 9854294\n",
      "Data columns (total 9 columns):\n",
      " #   Column          Non-Null Count   Dtype \n",
      "---  ------          --------------   ----- \n",
      " 0   tconst          186186 non-null  object\n",
      " 1   titleType       186186 non-null  object\n",
      " 2   primaryTitle    186186 non-null  object\n",
      " 3   originalTitle   186186 non-null  object\n",
      " 4   isAdult         186186 non-null  object\n",
      " 5   startYear       186186 non-null  object\n",
      " 6   endYear         186186 non-null  object\n",
      " 7   runtimeMinutes  186186 non-null  object\n",
      " 8   genres          186186 non-null  object\n",
      "dtypes: object(9)\n",
      "memory usage: 14.2+ MB\n",
      "None\n"
     ]
    }
   ],
   "source": [
    "# Filter for years between 2000 and 2021\n",
    "title_basics_years = title_basics_movies[title_basics_movies['startYear'].apply(lambda x: x.isnumeric() and 2000 <= int(x) <= 2021)]\n",
    "print(title_basics_years.info())"
   ]
  },
  {
   "cell_type": "code",
   "execution_count": 8,
   "id": "0e3aec01",
   "metadata": {},
   "outputs": [
    {
     "name": "stdout",
     "output_type": "stream",
     "text": [
      "<class 'pandas.core.frame.DataFrame'>\n",
      "Int64Index: 186186 entries, 11636 to 9854294\n",
      "Data columns (total 9 columns):\n",
      " #   Column          Non-Null Count   Dtype \n",
      "---  ------          --------------   ----- \n",
      " 0   tconst          186186 non-null  object\n",
      " 1   titleType       186186 non-null  object\n",
      " 2   primaryTitle    186186 non-null  object\n",
      " 3   originalTitle   186186 non-null  object\n",
      " 4   isAdult         186186 non-null  object\n",
      " 5   startYear       186186 non-null  object\n",
      " 6   endYear         186186 non-null  object\n",
      " 7   runtimeMinutes  186186 non-null  object\n",
      " 8   genres          186186 non-null  object\n",
      "dtypes: object(9)\n",
      "memory usage: 14.2+ MB\n",
      "None\n"
     ]
    }
   ],
   "source": [
    "# Exclude documentaries\n",
    "title_basics_no_docs = title_basics_years[~title_basics_years['genres'].str.contains(\"Documentary\", na=True)]\n",
    "print(title_basics_no_docs.info())"
   ]
  },
  {
   "cell_type": "code",
   "execution_count": 9,
   "id": "a7635b9f",
   "metadata": {},
   "outputs": [
    {
     "name": "stdout",
     "output_type": "stream",
     "text": [
      "<class 'pandas.core.frame.DataFrame'>\n",
      "Int64Index: 186186 entries, 11636 to 9854294\n",
      "Data columns (total 9 columns):\n",
      " #   Column          Non-Null Count   Dtype \n",
      "---  ------          --------------   ----- \n",
      " 0   tconst          186186 non-null  object\n",
      " 1   titleType       186186 non-null  object\n",
      " 2   primaryTitle    186186 non-null  object\n",
      " 3   originalTitle   186186 non-null  object\n",
      " 4   isAdult         186186 non-null  object\n",
      " 5   startYear       186186 non-null  object\n",
      " 6   endYear         186186 non-null  object\n",
      " 7   runtimeMinutes  186186 non-null  object\n",
      " 8   genres          186186 non-null  object\n",
      "dtypes: object(9)\n",
      "memory usage: 14.2+ MB\n",
      "None\n"
     ]
    }
   ],
   "source": [
    "# Exclude rows where 'genres' or 'runtimeMinutes' are NaN\n",
    "filtered_title_basics = title_basics_no_docs[~title_basics_no_docs['genres'].isna() & ~title_basics_no_docs['runtimeMinutes'].isna()]\n",
    "print(filtered_title_basics.info())"
   ]
  },
  {
   "cell_type": "code",
   "execution_count": 10,
   "id": "60b422e1",
   "metadata": {},
   "outputs": [
    {
     "name": "stdout",
     "output_type": "stream",
     "text": [
      "<class 'pandas.core.frame.DataFrame'>\n",
      "Int64Index: 1437055 entries, 5 to 35908996\n",
      "Data columns (total 8 columns):\n",
      " #   Column           Non-Null Count    Dtype \n",
      "---  ------           --------------    ----- \n",
      " 0   titleId          1437055 non-null  object\n",
      " 1   ordering         1437055 non-null  int64 \n",
      " 2   title            1437055 non-null  object\n",
      " 3   region           1437055 non-null  object\n",
      " 4   language         1437055 non-null  object\n",
      " 5   types            1437055 non-null  object\n",
      " 6   attributes       1437055 non-null  object\n",
      " 7   isOriginalTitle  1437055 non-null  object\n",
      "dtypes: int64(1), object(7)\n",
      "memory usage: 98.7+ MB\n",
      "None\n"
     ]
    }
   ],
   "source": [
    "# Filter 'title_akas' for US region\n",
    "title_akas_us = title_akas[title_akas['region'] == 'US']\n",
    "print(title_akas_us.info())"
   ]
  },
  {
   "cell_type": "code",
   "execution_count": 11,
   "id": "ab34689e",
   "metadata": {},
   "outputs": [
    {
     "name": "stdout",
     "output_type": "stream",
     "text": [
      "<class 'pandas.core.frame.DataFrame'>\n",
      "Int64Index: 107321 entries, 200972 to 35908599\n",
      "Data columns (total 8 columns):\n",
      " #   Column           Non-Null Count   Dtype \n",
      "---  ------           --------------   ----- \n",
      " 0   titleId          107321 non-null  object\n",
      " 1   ordering         107321 non-null  int64 \n",
      " 2   title            107321 non-null  object\n",
      " 3   region           107321 non-null  object\n",
      " 4   language         107321 non-null  object\n",
      " 5   types            107321 non-null  object\n",
      " 6   attributes       107321 non-null  object\n",
      " 7   isOriginalTitle  107321 non-null  object\n",
      "dtypes: int64(1), object(7)\n",
      "memory usage: 7.4+ MB\n",
      "None\n"
     ]
    }
   ],
   "source": [
    "# Filter for movies present in 'filtered_title_basics'\n",
    "filtered_title_akas = title_akas_us[title_akas_us['titleId'].isin(filtered_title_basics['tconst'])]\n",
    "print(filtered_title_akas.info())"
   ]
  },
  {
   "cell_type": "code",
   "execution_count": 12,
   "id": "70f3667f",
   "metadata": {},
   "outputs": [
    {
     "name": "stdout",
     "output_type": "stream",
     "text": [
      "<class 'pandas.core.frame.DataFrame'>\n",
      "Int64Index: 72738 entries, 17909 to 1311793\n",
      "Data columns (total 3 columns):\n",
      " #   Column         Non-Null Count  Dtype  \n",
      "---  ------         --------------  -----  \n",
      " 0   tconst         72738 non-null  object \n",
      " 1   averageRating  72738 non-null  float64\n",
      " 2   numVotes       72738 non-null  int64  \n",
      "dtypes: float64(1), int64(1), object(1)\n",
      "memory usage: 2.2+ MB\n",
      "None\n"
     ]
    }
   ],
   "source": [
    "filtered_title_ratings = title_ratings[title_ratings['tconst'].isin(filtered_title_akas['titleId'])]\n",
    "print(filtered_title_ratings.info())"
   ]
  },
  {
   "cell_type": "code",
   "execution_count": 13,
   "id": "af93723e",
   "metadata": {},
   "outputs": [
    {
     "name": "stdout",
     "output_type": "stream",
     "text": [
      "Filtered title_basics:\n",
      "<class 'pandas.core.frame.DataFrame'>\n",
      "Int64Index: 186186 entries, 11636 to 9854294\n",
      "Data columns (total 9 columns):\n",
      " #   Column          Non-Null Count   Dtype \n",
      "---  ------          --------------   ----- \n",
      " 0   tconst          186186 non-null  object\n",
      " 1   titleType       186186 non-null  object\n",
      " 2   primaryTitle    186186 non-null  object\n",
      " 3   originalTitle   186186 non-null  object\n",
      " 4   isAdult         186186 non-null  object\n",
      " 5   startYear       186186 non-null  object\n",
      " 6   endYear         186186 non-null  object\n",
      " 7   runtimeMinutes  186186 non-null  object\n",
      " 8   genres          186186 non-null  object\n",
      "dtypes: object(9)\n",
      "memory usage: 14.2+ MB\n",
      "None\n",
      "\n",
      "Filtered title_akas:\n",
      "<class 'pandas.core.frame.DataFrame'>\n",
      "Int64Index: 107321 entries, 200972 to 35908599\n",
      "Data columns (total 8 columns):\n",
      " #   Column           Non-Null Count   Dtype \n",
      "---  ------           --------------   ----- \n",
      " 0   titleId          107321 non-null  object\n",
      " 1   ordering         107321 non-null  int64 \n",
      " 2   title            107321 non-null  object\n",
      " 3   region           107321 non-null  object\n",
      " 4   language         107321 non-null  object\n",
      " 5   types            107321 non-null  object\n",
      " 6   attributes       107321 non-null  object\n",
      " 7   isOriginalTitle  107321 non-null  object\n",
      "dtypes: int64(1), object(7)\n",
      "memory usage: 7.4+ MB\n",
      "None\n",
      "\n",
      "Filtered title_ratings:\n",
      "<class 'pandas.core.frame.DataFrame'>\n",
      "Int64Index: 72738 entries, 17909 to 1311793\n",
      "Data columns (total 3 columns):\n",
      " #   Column         Non-Null Count  Dtype  \n",
      "---  ------         --------------  -----  \n",
      " 0   tconst         72738 non-null  object \n",
      " 1   averageRating  72738 non-null  float64\n",
      " 2   numVotes       72738 non-null  int64  \n",
      "dtypes: float64(1), int64(1), object(1)\n",
      "memory usage: 2.2+ MB\n",
      "None\n"
     ]
    }
   ],
   "source": [
    "# Display .info() for each DataFrame\n",
    "print(\"Filtered title_basics:\")\n",
    "print(filtered_title_basics.info())\n",
    "\n",
    "print(\"\\nFiltered title_akas:\")\n",
    "print(filtered_title_akas.info())\n",
    "\n",
    "print(\"\\nFiltered title_ratings:\")\n",
    "print(filtered_title_ratings.info())\n",
    "\n",
    "# Save each DataFrame to a compressed CSV file in the \"Data/\" folder\n",
    "filtered_title_basics.to_csv('Data/filtered_title_basics.csv.gz', index=False, compression='gzip')\n",
    "filtered_title_akas.to_csv('Data/filtered_title_akas.csv.gz', index=False, compression='gzip')\n",
    "filtered_title_ratings.to_csv('Data/filtered_title_ratings.csv.gz', index=False, compression='gzip')\n"
   ]
  },
  {
   "cell_type": "code",
   "execution_count": null,
   "id": "8efc1fe0",
   "metadata": {},
   "outputs": [],
   "source": []
  }
 ],
 "metadata": {
  "kernelspec": {
   "display_name": "Python 3 (ipykernel)",
   "language": "python",
   "name": "python3"
  },
  "language_info": {
   "codemirror_mode": {
    "name": "ipython",
    "version": 3
   },
   "file_extension": ".py",
   "mimetype": "text/x-python",
   "name": "python",
   "nbconvert_exporter": "python",
   "pygments_lexer": "ipython3",
   "version": "3.9.13"
  }
 },
 "nbformat": 4,
 "nbformat_minor": 5
}
